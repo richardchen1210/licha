{
  "nbformat": 4,
  "nbformat_minor": 0,
  "metadata": {
    "colab": {
      "provenance": [],
      "collapsed_sections": [],
      "include_colab_link": true
    },
    "kernelspec": {
      "name": "python3",
      "display_name": "Python 3"
    },
    "language_info": {
      "name": "python"
    },
    "gpuClass": "standard"
  },
  "cells": [
    {
      "cell_type": "markdown",
      "metadata": {
        "id": "view-in-github",
        "colab_type": "text"
      },
      "source": [
        "<a href=\"https://colab.research.google.com/github/richardchen1210/licha/blob/master/stock_v4_%E6%8C%87%E5%AE%9A%E6%97%A5%E6%9C%9F%E7%9A%84%E5%89%8D280%E6%A0%B9(def%E7%89%88).ipynb\" target=\"_parent\"><img src=\"https://colab.research.google.com/assets/colab-badge.svg\" alt=\"Open In Colab\"/></a>"
      ]
    },
    {
      "cell_type": "code",
      "source": [
        "!pip install yfinance\n",
        "!pip install mpl_finance"
      ],
      "metadata": {
        "id": "7BZYegxsr7PI",
        "colab": {
          "base_uri": "https://localhost:8080/"
        },
        "outputId": "c05ef58a-f7b4-420a-ec5c-939c03ddde76"
      },
      "execution_count": null,
      "outputs": [
        {
          "output_type": "stream",
          "name": "stdout",
          "text": [
            "Looking in indexes: https://pypi.org/simple, https://us-python.pkg.dev/colab-wheels/public/simple/\n",
            "Collecting yfinance\n",
            "  Downloading yfinance-0.1.74-py2.py3-none-any.whl (27 kB)\n",
            "Requirement already satisfied: multitasking>=0.0.7 in /usr/local/lib/python3.7/dist-packages (from yfinance) (0.0.11)\n",
            "Collecting requests>=2.26\n",
            "  Downloading requests-2.28.1-py3-none-any.whl (62 kB)\n",
            "\u001b[K     |████████████████████████████████| 62 kB 480 kB/s \n",
            "\u001b[?25hRequirement already satisfied: numpy>=1.15 in /usr/local/lib/python3.7/dist-packages (from yfinance) (1.21.6)\n",
            "Requirement already satisfied: pandas>=0.24.0 in /usr/local/lib/python3.7/dist-packages (from yfinance) (1.3.5)\n",
            "Requirement already satisfied: lxml>=4.5.1 in /usr/local/lib/python3.7/dist-packages (from yfinance) (4.9.1)\n",
            "Requirement already satisfied: python-dateutil>=2.7.3 in /usr/local/lib/python3.7/dist-packages (from pandas>=0.24.0->yfinance) (2.8.2)\n",
            "Requirement already satisfied: pytz>=2017.3 in /usr/local/lib/python3.7/dist-packages (from pandas>=0.24.0->yfinance) (2022.2.1)\n",
            "Requirement already satisfied: six>=1.5 in /usr/local/lib/python3.7/dist-packages (from python-dateutil>=2.7.3->pandas>=0.24.0->yfinance) (1.15.0)\n",
            "Requirement already satisfied: idna<4,>=2.5 in /usr/local/lib/python3.7/dist-packages (from requests>=2.26->yfinance) (2.10)\n",
            "Requirement already satisfied: certifi>=2017.4.17 in /usr/local/lib/python3.7/dist-packages (from requests>=2.26->yfinance) (2022.6.15)\n",
            "Requirement already satisfied: charset-normalizer<3,>=2 in /usr/local/lib/python3.7/dist-packages (from requests>=2.26->yfinance) (2.1.1)\n",
            "Requirement already satisfied: urllib3<1.27,>=1.21.1 in /usr/local/lib/python3.7/dist-packages (from requests>=2.26->yfinance) (1.24.3)\n",
            "Installing collected packages: requests, yfinance\n",
            "  Attempting uninstall: requests\n",
            "    Found existing installation: requests 2.23.0\n",
            "    Uninstalling requests-2.23.0:\n",
            "      Successfully uninstalled requests-2.23.0\n",
            "Successfully installed requests-2.28.1 yfinance-0.1.74\n",
            "Looking in indexes: https://pypi.org/simple, https://us-python.pkg.dev/colab-wheels/public/simple/\n",
            "Collecting mpl_finance\n",
            "  Downloading mpl_finance-0.10.1-py3-none-any.whl (8.4 kB)\n",
            "Requirement already satisfied: matplotlib in /usr/local/lib/python3.7/dist-packages (from mpl_finance) (3.2.2)\n",
            "Requirement already satisfied: python-dateutil>=2.1 in /usr/local/lib/python3.7/dist-packages (from matplotlib->mpl_finance) (2.8.2)\n",
            "Requirement already satisfied: numpy>=1.11 in /usr/local/lib/python3.7/dist-packages (from matplotlib->mpl_finance) (1.21.6)\n",
            "Requirement already satisfied: cycler>=0.10 in /usr/local/lib/python3.7/dist-packages (from matplotlib->mpl_finance) (0.11.0)\n",
            "Requirement already satisfied: kiwisolver>=1.0.1 in /usr/local/lib/python3.7/dist-packages (from matplotlib->mpl_finance) (1.4.4)\n",
            "Requirement already satisfied: pyparsing!=2.0.4,!=2.1.2,!=2.1.6,>=2.0.1 in /usr/local/lib/python3.7/dist-packages (from matplotlib->mpl_finance) (3.0.9)\n",
            "Requirement already satisfied: typing-extensions in /usr/local/lib/python3.7/dist-packages (from kiwisolver>=1.0.1->matplotlib->mpl_finance) (4.1.1)\n",
            "Requirement already satisfied: six>=1.5 in /usr/local/lib/python3.7/dist-packages (from python-dateutil>=2.1->matplotlib->mpl_finance) (1.15.0)\n",
            "Installing collected packages: mpl-finance\n",
            "Successfully installed mpl-finance-0.10.1\n"
          ]
        }
      ]
    },
    {
      "cell_type": "code",
      "source": [
        "import pandas as pd\n",
        "import yfinance as yf\n",
        "import mpl_finance as mpf\n",
        "import matplotlib as mpl\n",
        "import matplotlib.pyplot as plt \n",
        "from matplotlib.font_manager import fontManager\n",
        "import os\n",
        "import csv"
      ],
      "metadata": {
        "id": "4WXt08yQMsRZ"
      },
      "execution_count": null,
      "outputs": []
    },
    {
      "cell_type": "code",
      "source": [
        "!wget -O TaipeiSansTCBeta-Regular.ttf https://drive.google.com/uc?id=1eGAsTN1HBpJAkeVM57_C7ccp7hbgSz3_&export=download\n",
        "\n",
        "# 改style要在改font之前\n",
        "# plt.style.use('seaborn')  \n",
        "\n",
        "fontManager.addfont('TaipeiSansTCBeta-Regular.ttf') # 取用中文字型\n",
        "mpl.rc('font', family='Taipei Sans TC Beta')"
      ],
      "metadata": {
        "colab": {
          "base_uri": "https://localhost:8080/"
        },
        "id": "ElYhCX2j9Lnc",
        "outputId": "0d86e06e-2143-4c3d-ee79-875cb1b2074e"
      },
      "execution_count": null,
      "outputs": [
        {
          "output_type": "stream",
          "name": "stdout",
          "text": [
            "--2022-09-14 12:58:23--  https://drive.google.com/uc?id=1eGAsTN1HBpJAkeVM57_C7ccp7hbgSz3_\n",
            "Resolving drive.google.com (drive.google.com)... 173.194.217.139, 173.194.217.113, 173.194.217.102, ...\n",
            "Connecting to drive.google.com (drive.google.com)|173.194.217.139|:443... connected.\n",
            "HTTP request sent, awaiting response... 303 See Other\n",
            "Location: https://doc-0k-9o-docs.googleusercontent.com/docs/securesc/ha0ro937gcuc7l7deffksulhg5h7mbp1/h9lai08sd4l2157nvo1fqo2sdd4225qc/1663160250000/02847987870453524430/*/1eGAsTN1HBpJAkeVM57_C7ccp7hbgSz3_?uuid=05a662d6-5f98-4850-98d2-c8d367907138 [following]\n",
            "Warning: wildcards not supported in HTTP.\n",
            "--2022-09-14 12:58:27--  https://doc-0k-9o-docs.googleusercontent.com/docs/securesc/ha0ro937gcuc7l7deffksulhg5h7mbp1/h9lai08sd4l2157nvo1fqo2sdd4225qc/1663160250000/02847987870453524430/*/1eGAsTN1HBpJAkeVM57_C7ccp7hbgSz3_?uuid=05a662d6-5f98-4850-98d2-c8d367907138\n",
            "Resolving doc-0k-9o-docs.googleusercontent.com (doc-0k-9o-docs.googleusercontent.com)... 173.194.217.132, 2607:f8b0:400c:c13::84\n",
            "Connecting to doc-0k-9o-docs.googleusercontent.com (doc-0k-9o-docs.googleusercontent.com)|173.194.217.132|:443... connected.\n",
            "HTTP request sent, awaiting response... 200 OK\n",
            "Length: 20659344 (20M) [application/x-font-ttf]\n",
            "Saving to: ‘TaipeiSansTCBeta-Regular.ttf’\n",
            "\n",
            "TaipeiSansTCBeta-Re 100%[===================>]  19.70M  --.-KB/s    in 0.1s    \n",
            "\n",
            "2022-09-14 12:58:27 (169 MB/s) - ‘TaipeiSansTCBeta-Regular.ttf’ saved [20659344/20659344]\n",
            "\n"
          ]
        }
      ]
    },
    {
      "cell_type": "code",
      "source": [
        "from google.colab import drive\n",
        "drive.mount('/content/drive')"
      ],
      "metadata": {
        "id": "EylibxZKv4f9",
        "colab": {
          "base_uri": "https://localhost:8080/"
        },
        "outputId": "d288d047-a5e3-4902-f45e-8297890805dd"
      },
      "execution_count": null,
      "outputs": [
        {
          "output_type": "stream",
          "name": "stdout",
          "text": [
            "Mounted at /content/drive\n"
          ]
        }
      ]
    },
    {
      "cell_type": "code",
      "source": [
        "import gc\n",
        "\n",
        "try:\n",
        "    os.mkdir(\"/content/drive/MyDrive/stockhistory_kbar\")\n",
        "except:\n",
        "    pass\n",
        "\n",
        "# 根據data資料畫出一k線圖\n",
        "def plot_280Kbar(data, stock_ind, stock_name):\n",
        "    df = data\n",
        "\n",
        "    fig = plt.figure(figsize=(24,8))  # 設定畫布大小(橫,直)\n",
        "    ax = fig.add_subplot(1,1,1) # 等份切割畫布(直向,橫向,指定圖要放的位置) 假設切割成(2,3,1) 意指切成如2x3的陣列 位置編號[[1,2,3],[4,5,6]] 圖放在1號位置\n",
        "    ax.set_xticks(range(0,len(df.index),30)) # 設定刻度 此為每30筆資料為一格\n",
        "    #把日期後的時間刪掉(原始:2022-05-03 00:00:00) 只剩日期(2022-05-03) 由於資料量很多所有日期都顯示會擠在一起 所以只顯示每30天的日期\n",
        "    convert_date = pd.DataFrame(df.index[::30])[\"Date\"].apply(lambda x: x.strftime(\"%Y-%m-%d\"))\n",
        "    ax.set_xticklabels(convert_date, fontsize = 12) # x座標名稱\n",
        "    # 繪製k線圖或稱蠟燭圖 主體(粗)端點代表開盤與收盤價 引線(細)的端點代表最高或最低\n",
        "    # width 主體寬度  alpha 透明度  在台灣紅色(俗稱上漲 colorup=\"r\")的由上到下:高收開低 綠色(下跌 color=\"g\"):高開收低 (美國顏色相反)\n",
        "    mpf.candlestick2_ochl(ax,df[\"Open\"],df[\"Close\"],df[\"High\"],df[\"Low\"],width = 0.6, colorup = \"r\", colordown = \"g\", alpha = 0.9)\n",
        "    # 另有參數 rotation = 90 表刻度文字旋轉90度\n",
        "\n",
        "    last_date = df.index[-1].strftime(\"%Y-%m-%d\")\n",
        "    print(last_date, end = \" \")\n",
        "    path = f\"/content/drive/MyDrive/stockhistory_kbar/{stock_ind}\"\n",
        "    try:\n",
        "        os.mkdir(path)\n",
        "    except:\n",
        "        pass\n",
        "    plt.title(f\"{stock_ind} {stock_name} {last_date}前280根k棒\") # 標題名稱\n",
        "    plt.xlabel(\"Date\") # x軸標題\n",
        "    plt.ylabel(\"Price\") # y軸標題\n",
        "    try:\n",
        "        plt.savefig(f\"/content/drive/MyDrive/stockhistory_kbar/{stock_ind}/{last_date}.png\") # 要放在show前面 否則會變空圖\n",
        "        plt.cla()\n",
        "        plt.clf()\n",
        "        plt.close()\n",
        "        del fig\n",
        "        del df\n",
        "        del ax\n",
        "        del path\n",
        "        gc.collect(generation=1)\n",
        "        gc.collect(generation=2)       \n",
        "    except:\n",
        "        pass\n",
        "        \n",
        "  \n"
      ],
      "metadata": {
        "id": "ToZiPjHzOD7p"
      },
      "execution_count": null,
      "outputs": []
    },
    {
      "cell_type": "code",
      "source": [
        "# 連續繪製多圖使用 把資料切割成 n_bars 根k棒(預設280根) 再丟入plot_280Kbar畫圖\n",
        "\n",
        "def cut_ndays_plot(data, stock_ind, stock_name, n_bars = 280):\n",
        "    for i in range(len(data) - n_bars):\n",
        "        if i == 0:\n",
        "            df = data\n",
        "        else:\n",
        "            df = data[:-i]\n",
        "        \n",
        "        if len(df) < n_bars:\n",
        "            break\n",
        "\n",
        "        df = df[-n_bars:]\n",
        "        plot_280Kbar(data = df, stock_ind = stock_ind, stock_name = stock_name)\n",
        "        del df\n",
        "        gc.collect(generation=1)\n",
        "        gc.collect(generation=2) "
      ],
      "metadata": {
        "id": "kzzdLifTjb8B"
      },
      "execution_count": null,
      "outputs": []
    },
    {
      "cell_type": "code",
      "source": [
        "with open(\"stocks_code.csv\",\"r\") as f:\n",
        "    csvReader = csv.reader(f) # 讀取資料存於物件 此物件內容是list [[A,B],[C,D],...]\n",
        "    dict_code = dict(csvReader) # 把csvReader物件轉成dict\n"
      ],
      "metadata": {
        "id": "pHRSg2kVulhQ"
      },
      "execution_count": null,
      "outputs": []
    },
    {
      "cell_type": "code",
      "source": [
        "# 畫出所有股票歷史資料每日的前 n_bars 根k棒 應該是用不太到\n",
        "for code in dict_code:\n",
        "\n",
        "    print(\"目前股號:\",code)\n",
        "\n",
        "    data = yf.download(f\"{code}.TW\", period = \"max\", interval = \"1d\")\n",
        "    cut_ndays_plot(data = data, stock_ind = code, stock_name = dict_code[code], n_bars = 280)\n",
        "\n",
        "    del data\n",
        "    gc.collect(generation=1)\n",
        "    gc.collect(generation=2) \n",
        "\n",
        "    print(\"\\n\")\n"
      ],
      "metadata": {
        "id": "FXIQrMe1SjID"
      },
      "execution_count": null,
      "outputs": []
    },
    {
      "cell_type": "code",
      "source": [
        "# 畫出單日的前 280 根k棒 每日更新用\n",
        "for code in dict_code:\n",
        "\n",
        "    print(\"目前股號:\",code)\n",
        "    data = yf.download(f\"{code}.TW\", period = \"max\", interval = \"1d\")[-280:] # 取得最新資料的前280根\n",
        "    plot_280Kbar(data = data, stock_ind = code, stock_name = dict_code[code])\n",
        "\n",
        "    del data\n",
        "    gc.collect(generation=1)\n",
        "    gc.collect(generation=2) \n",
        "\n",
        "    print(\"\\n\")\n"
      ],
      "metadata": {
        "id": "0SwMNlKTEwze"
      },
      "execution_count": null,
      "outputs": []
    }
  ]
}