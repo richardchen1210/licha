{
  "nbformat": 4,
  "nbformat_minor": 0,
  "metadata": {
    "colab": {
      "provenance": [],
      "collapsed_sections": [],
      "authorship_tag": "ABX9TyOP5GzV4isTKNangUNYXYTx",
      "include_colab_link": true
    },
    "kernelspec": {
      "name": "python3",
      "display_name": "Python 3"
    },
    "language_info": {
      "name": "python"
    }
  },
  "cells": [
    {
      "cell_type": "markdown",
      "metadata": {
        "id": "view-in-github",
        "colab_type": "text"
      },
      "source": [
        "<a href=\"https://colab.research.google.com/github/richardchen1210/licha/blob/master/BGR2GRAY.ipynb\" target=\"_parent\"><img src=\"https://colab.research.google.com/assets/colab-badge.svg\" alt=\"Open In Colab\"/></a>"
      ]
    },
    {
      "cell_type": "code",
      "execution_count": null,
      "metadata": {
        "colab": {
          "base_uri": "https://localhost:8080/"
        },
        "id": "2E92owdhthKB",
        "outputId": "e5ab75f9-8eef-4dd5-e97c-c1e5956eb3c1"
      },
      "outputs": [
        {
          "output_type": "stream",
          "name": "stdout",
          "text": [
            "Mounted at /content/drive\n"
          ]
        }
      ],
      "source": [
        "from google.colab import drive # download google drive\n",
        "drive.mount('/content/drive')"
      ]
    },
    {
      "cell_type": "code",
      "source": [
        "import os\n",
        "from glob import glob # search files\n",
        "import cv2"
      ],
      "metadata": {
        "id": "h5ZCn-a5tyS5"
      },
      "execution_count": null,
      "outputs": []
    },
    {
      "cell_type": "code",
      "source": [
        "# 把資料圖轉成gray\n",
        "ROOT_PATH = \"/content/drive/MyDrive/yolo-v4-tf.keras\"\n",
        "READ_PATH = ROOT_PATH + '/dataset/train_img/*/*.png'\n",
        "SAVE_PATH = ROOT_PATH + '/dataset/train_img_gray'\n",
        "\n",
        "try:\n",
        "    os.mkdir(SAVE_PATH)\n",
        "except:\n",
        "    pass\n",
        "\n",
        "paths = glob(READ_PATH)\n",
        "for path in paths:\n",
        "    doc_name = path.split(\"/\")[-2]\n",
        "    file_name = path.split(\"/\")[-1]\n",
        "    try:\n",
        "        os.mkdir(f\"{SAVE_PATH}/{doc_name}\")\n",
        "    except:\n",
        "        pass\n",
        "    m1 = cv2.imread(path,0)\n",
        "    cv2.imwrite(f\"{SAVE_PATH}/{doc_name}/{file_name}\",m1)"
      ],
      "metadata": {
        "id": "TVl3mHTLt49q"
      },
      "execution_count": null,
      "outputs": []
    },
    {
      "cell_type": "code",
      "source": [
        "# 把測試圖轉成gray\n",
        "ROOT_PATH = \"/content/drive/MyDrive/yolo-v4-tf.keras\"\n",
        "READ_PATH = ROOT_PATH + '/dataset/測試圖/*.png'\n",
        "SAVE_PATH = ROOT_PATH + '/dataset/測試圖_gray'\n",
        "\n",
        "try:\n",
        "    os.mkdir(SAVE_PATH)\n",
        "except:\n",
        "    pass\n",
        "\n",
        "paths = glob(READ_PATH)\n",
        "for path in paths:\n",
        "    file_name = path.split(\"/\")[-1]\n",
        "\n",
        "    m1 = cv2.imread(path,0)\n",
        "    cv2.imwrite(f\"{SAVE_PATH}/{file_name}\",m1)"
      ],
      "metadata": {
        "id": "QNvaez1H-95Z"
      },
      "execution_count": null,
      "outputs": []
    }
  ]
}